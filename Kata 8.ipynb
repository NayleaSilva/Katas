{
 "cells": [
  {
   "cell_type": "markdown",
   "metadata": {},
   "source": [
    "# Problema 1"
   ]
  },
  {
   "cell_type": "code",
   "execution_count": 35,
   "metadata": {},
   "outputs": [
    {
     "name": "stdout",
     "output_type": "stream",
     "text": [
      "El planeta Marte tienen 2 lunas\n",
      "El planeta Marte tienen una circunferencia polar de 6752\n"
     ]
    }
   ],
   "source": [
    "#Diccionario\n",
    "planeta = {\n",
    "    \"nombre\": \"Marte\",\n",
    "    \"lunas\": 2\n",
    "}\n",
    "\n",
    "#Impresion del diccionario\n",
    "print(f\"\"\"El planeta {planeta[\"nombre\"]} tienen {planeta[\"lunas\"]} lunas\"\"\")\n",
    "\n",
    "#Se agrega una Keyword con sus valores\n",
    "planeta[\"circunferencia (km)\"] = {\n",
    "    \"polar\": 6752,\n",
    "    \"equatorial\": 6792\n",
    "}\n",
    "\n",
    "#Se imprime un resultado conjunto\n",
    "print(f\"\"\"El planeta {planeta[\"nombre\"]} tienen una circunferencia polar de {planeta[\"circunferencia (km)\"][\"polar\"]}\"\"\")"
   ]
  },
  {
   "cell_type": "markdown",
   "metadata": {},
   "source": [
    "# Problema 2"
   ]
  },
  {
   "cell_type": "code",
   "execution_count": 36,
   "metadata": {},
   "outputs": [
    {
     "name": "stdout",
     "output_type": "stream",
     "text": [
      "17.833333333333332\n"
     ]
    }
   ],
   "source": [
    "#Diccionario\n",
    "planetas_lunas = {\n",
    "    \"mercury\": 0,\n",
    "    \"venus\": 0,\n",
    "    \"earth\": 1,\n",
    "    \"mars\": 2,\n",
    "    \"jupiter\": 79,\n",
    "    \"saturn\": 82,\n",
    "    \"uranus\": 27,\n",
    "    \"neptune\": 14,\n",
    "    \"pluto\": 5,\n",
    "    \"haumea\": 2,\n",
    "    \"makemake\": 1,\n",
    "    \"eris\": 1\n",
    "}\n",
    "#Lista de los valores\n",
    "lunas=planetas_lunas.values()\n",
    "\n",
    "#Cantidad de planetas\n",
    "planetas=len(planetas_lunas.keys())\n",
    "\n",
    "#Suma de lunas\n",
    "total_lunas=0\n",
    "for luna in lunas:\n",
    "    total_lunas+=luna\n",
    "\n",
    "#Calculo de promedio\n",
    "promedio=total_lunas/planetas\n",
    "\n",
    "#Impresion de promedio\n",
    "print(promedio)\n",
    "\n"
   ]
  }
 ],
 "metadata": {
  "interpreter": {
   "hash": "7cc2f80e88967eb27f923e3bc96a07b6e52aa2a819bf8430ee7ee0fe71dbb06a"
  },
  "kernelspec": {
   "display_name": "Python 3.10.2 ('env': venv)",
   "language": "python",
   "name": "python3"
  },
  "language_info": {
   "codemirror_mode": {
    "name": "ipython",
    "version": 3
   },
   "file_extension": ".py",
   "mimetype": "text/x-python",
   "name": "python",
   "nbconvert_exporter": "python",
   "pygments_lexer": "ipython3",
   "version": "3.10.2"
  },
  "orig_nbformat": 4
 },
 "nbformat": 4,
 "nbformat_minor": 2
}
