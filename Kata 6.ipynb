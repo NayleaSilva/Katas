{
 "cells": [
  {
   "cell_type": "markdown",
   "metadata": {},
   "source": [
    "# Problema 1"
   ]
  },
  {
   "cell_type": "code",
   "execution_count": 11,
   "metadata": {},
   "outputs": [
    {
     "name": "stdout",
     "output_type": "stream",
     "text": [
      "Hay un total de: 7 planetas\n",
      "El ultimo planeta es: Pluton\n"
     ]
    }
   ],
   "source": [
    "#Lista de planetas\n",
    "planetas=[\"Mercurio\", \"Venus\", \"Tierra\", \"Marte\", \"Jupiter\", \"Saturno\", \"Neptuno\"]\n",
    "\n",
    "#Cantidad de planetas\n",
    "print(f\"Hay un total de: {len(planetas)} planetas\")\n",
    "\n",
    "#Se agrega pluton y se muestra\n",
    "planetas.append(\"Pluton\")\n",
    "print(f\"El ultimo planeta es: {planetas[-1]}\")\n",
    "\n"
   ]
  },
  {
   "cell_type": "markdown",
   "metadata": {},
   "source": [
    "# Problema 2"
   ]
  },
  {
   "cell_type": "code",
   "execution_count": 12,
   "metadata": {},
   "outputs": [
    {
     "name": "stdout",
     "output_type": "stream",
     "text": [
      "Los planetas mas lejanos al sol de Marte son: ['Jupiter', 'Saturno', 'Neptuno']\n",
      "Los planetas mas cercanos al sol de Marte son: ['Mercurio', 'Venus', 'Tierra']\n"
     ]
    }
   ],
   "source": [
    "# Lista de planetas\n",
    "planetas = [\"Mercurio\", \"Venus\", \"Tierra\", \"Marte\", \"Jupiter\", \"Saturno\", \"Neptuno\"]\n",
    "\n",
    "#Seleccion de planeta\n",
    "seleccion=input(\"Dame el nombre de un planeta: \")\n",
    "\n",
    "#Obtencion del indice\n",
    "indice=int(planetas.index(seleccion))\n",
    "\n",
    "#Mostrar planetas mas lejanos al sol\n",
    "print(f\"Los planetas mas lejanos al sol de {seleccion} son: {planetas[indice+1:]}\")\n",
    "\n",
    "#Mostrar planetas mas cercanos al sol\n",
    "print(f\"Los planetas mas cercanos al sol de {seleccion} son: {planetas[0:indice]}\")\n"
   ]
  }
 ],
 "metadata": {
  "interpreter": {
   "hash": "7cc2f80e88967eb27f923e3bc96a07b6e52aa2a819bf8430ee7ee0fe71dbb06a"
  },
  "kernelspec": {
   "display_name": "Python 3.10.2 ('env': venv)",
   "language": "python",
   "name": "python3"
  },
  "language_info": {
   "codemirror_mode": {
    "name": "ipython",
    "version": 3
   },
   "file_extension": ".py",
   "mimetype": "text/x-python",
   "name": "python",
   "nbconvert_exporter": "python",
   "pygments_lexer": "ipython3",
   "version": "3.10.2"
  },
  "orig_nbformat": 4
 },
 "nbformat": 4,
 "nbformat_minor": 2
}
