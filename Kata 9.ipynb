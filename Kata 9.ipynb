{
 "cells": [
  {
   "cell_type": "markdown",
   "metadata": {},
   "source": [
    "# Problema 1"
   ]
  },
  {
   "cell_type": "code",
   "execution_count": 13,
   "metadata": {},
   "outputs": [
    {
     "name": "stdout",
     "output_type": "stream",
     "text": [
      "Reporte de combustible:\n",
      "    Tanque 1: 45\n",
      "    Tanque 2: 67\n",
      "    Tanque 3: 88\n",
      "    Promedio: 66.66666666666667\n",
      "    \n",
      "Reporte de combustible:\n",
      "    Tanque 1: 45\n",
      "    Tanque 2: 67\n",
      "    Tanque 3: 88\n",
      "    Promedio: 66.66666666666667\n",
      "    \n"
     ]
    }
   ],
   "source": [
    "#Funcion con promedio\n",
    "def generador_de_reporte(tanque1,tanque2,tanque3):\n",
    "    promedio=(tanque1+tanque2+tanque3)/3\n",
    "    return f\"\"\"Reporte de combustible:\n",
    "    Tanque 1: {tanque1}\n",
    "    Tanque 2: {tanque2}\n",
    "    Tanque 3: {tanque3}\n",
    "    Promedio: {promedio}\n",
    "    \"\"\"\n",
    "#Impresion de la funcion con promedio\n",
    "print(generador_de_reporte(45,67,88))\n",
    "\n",
    "#Funcion promedio\n",
    "def promedio(datos):\n",
    "    valor=sum(datos)\n",
    "    cantidad=len(datos)\n",
    "    return valor/cantidad\n",
    "\n",
    "#Funcion con promedio como una funcion\n",
    "def generador_de_reporte(tanque1,tanque2,tanque3):\n",
    "    return f\"\"\"Reporte de combustible:\n",
    "    Tanque 1: {tanque1}\n",
    "    Tanque 2: {tanque2}\n",
    "    Tanque 3: {tanque3}\n",
    "    Promedio: {promedio([tanque1,tanque2,tanque3])}\n",
    "    \"\"\"\n",
    "#Impresion funcion con promedio como una funcion\n",
    "print(generador_de_reporte(45,67,88))"
   ]
  },
  {
   "cell_type": "markdown",
   "metadata": {},
   "source": [
    "# Problema 2"
   ]
  },
  {
   "cell_type": "code",
   "execution_count": 14,
   "metadata": {},
   "outputs": [
    {
     "name": "stdout",
     "output_type": "stream",
     "text": [
      "\n",
      "    Destino: Luna\n",
      "    Tiempo total de vuelo: 135 minutos\n",
      "    Combustible total: 250000 galones\n",
      "    \n",
      "\n",
      "    Destino: Luna\n",
      "    Tiempo total de vuelo: 140 minutos\n",
      "    Combustible total: 250000\n",
      "    \n",
      "\n",
      "    Destino: Luna\n",
      "    Tiempo total de vuelo: 140 minutos\n",
      "    Combustible total: 250000\n",
      "    externo tanque contiene: 100000 galones restantes\n",
      "interno tanque contiene: 150000 galones restantes\n",
      "\n"
     ]
    }
   ],
   "source": [
    "def reporte_mision(tiempo_prelanzamiento,tiempo_vuelo, destino, tanque_externo, tanque_interno):\n",
    "    return f\"\"\"\n",
    "    Destino: {destino}\n",
    "    Tiempo total de vuelo: {tiempo_prelanzamiento + tiempo_vuelo } minutos\n",
    "    Combustible total: {tanque_externo + tanque_interno } galones\n",
    "    \"\"\"\n",
    "\n",
    "print(reporte_mision(15, 120, \"Luna\", 100000, 150000))\n",
    "\n",
    "def reporte_mision(destino, *tiempo, **combustible):\n",
    "    return f\"\"\"\n",
    "    Destino: {destino}\n",
    "    Tiempo total de vuelo: {sum(tiempo)} minutos\n",
    "    Combustible total: {sum(combustible.values())}\n",
    "    \"\"\"\n",
    "\n",
    "print(reporte_mision(\"Luna\", 15, 120, 5, externo=100000, interno=150000))\n",
    "\n",
    "\n",
    "def reporte_mision(destino, *tiempo, **combustible):\n",
    "    reporte = f\"\"\"\n",
    "    Destino: {destino}\n",
    "    Tiempo total de vuelo: {sum(tiempo)} minutos\n",
    "    Combustible total: {sum(combustible.values())}\n",
    "    \"\"\"\n",
    "    for tanque, reserva in combustible.items():\n",
    "        reporte += f\"{tanque} tanque contiene: {reserva} galones restantes\\n\"\n",
    "    return reporte\n",
    "\n",
    "print(reporte_mision(\"Luna\", 15, 120, 5, externo=100000, interno=150000))\n",
    "\n"
   ]
  }
 ],
 "metadata": {
  "interpreter": {
   "hash": "7cc2f80e88967eb27f923e3bc96a07b6e52aa2a819bf8430ee7ee0fe71dbb06a"
  },
  "kernelspec": {
   "display_name": "Python 3.10.2 ('env': venv)",
   "language": "python",
   "name": "python3"
  },
  "language_info": {
   "codemirror_mode": {
    "name": "ipython",
    "version": 3
   },
   "file_extension": ".py",
   "mimetype": "text/x-python",
   "name": "python",
   "nbconvert_exporter": "python",
   "pygments_lexer": "ipython3",
   "version": "3.10.2"
  },
  "orig_nbformat": 4
 },
 "nbformat": 4,
 "nbformat_minor": 2
}
