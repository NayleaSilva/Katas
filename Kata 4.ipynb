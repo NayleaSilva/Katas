{
 "cells": [
  {
   "cell_type": "markdown",
   "metadata": {},
   "source": [
    "# Problema 1"
   ]
  },
  {
   "cell_type": "code",
   "execution_count": 49,
   "metadata": {},
   "outputs": [
    {
     "name": "stdout",
     "output_type": "stream",
     "text": [
      " On average, the Moon moves 4cm away from the Earth every year\n",
      " The highest daylight temperature of the Moon is 127 C\n",
      " On average, the Moon moves 4cm away from the Earth every year\n",
      " The highest daylight temperature of the Moon is 127 Celsius\n"
     ]
    }
   ],
   "source": [
    "# Texto\n",
    "texto = \"\"\"Interesting facts about the Moon. The Moon is Earth's only satellite. There are several interesting facts about the Moon and how it affects life here on Earth. On average, the Moon moves 4cm away from the Earth every year. \n",
    "This yearly drift is not significant enough to cause immediate effects on Earth. The highest daylight temperature of the Moon is 127 C.\"\"\"\n",
    "\n",
    "texto_dividido = texto.split('.')\n",
    "pista=[\"average\", \"temperature\", \"distance\"]\n",
    "\n",
    "# Busqueda de palabras\n",
    "for palabra in texto_dividido:\n",
    "    for i in pista:\n",
    "        if i in palabra:\n",
    "            print(palabra)\n",
    "            break\n",
    "\n",
    "# Susititucion de C a Celsius\n",
    "for palabra in texto_dividido:\n",
    "    for i in pista:\n",
    "        if i in palabra:\n",
    "            print(palabra.replace(\"C\",\"Celsius\"))\n",
    "            break\n",
    "\n"
   ]
  },
  {
   "cell_type": "markdown",
   "metadata": {},
   "source": [
    "# Problema 2"
   ]
  },
  {
   "cell_type": "code",
   "execution_count": 50,
   "metadata": {},
   "outputs": [
    {
     "name": "stdout",
     "output_type": "stream",
     "text": [
      "Datos De Gravedad Sobre Moon\n",
      "--------------------------------------------------------------------------------\n",
      "Nombre del planeta: Earth\n",
      "Gravedad en Moon: 1.6199999999999999 ms/2 \n",
      "\n",
      "Datos De Gravedad Sobre Moon\n",
      "--------------------------------------------------------------------------------\n",
      "Nombre del planeta: Earth\n",
      "Gravedad en Moon: 1.6199999999999999 ms/2 \n",
      "\n",
      "\n",
      "Datos de Gravedad sobre: Ganímedes\n",
      "-------------------------------------------------------------------------------\n",
      "Nombre del planeta: Marte \n",
      "Gravedad en Ganímedes: 0.00143 m/s2\n",
      "\n",
      "\n",
      "Datos de Gravedad sobre: Ganímedes\n",
      "-------------------------------------------------------------------------------\n",
      "Nombre del planeta: Marte \n",
      "Gravedad en Ganímedes: 1.4300000000000002 m/s2\n",
      "\n"
     ]
    }
   ],
   "source": [
    "name = \"Moon\"\n",
    "gravity = 0.00162 # in kms\n",
    "planet = \"Earth\"\n",
    "#Titulo\n",
    "titulo=f\"Datos de gravedad sobre {name}\"\n",
    "#Estructura\n",
    "estructura=f\"\"\"{\"-\"*80}\n",
    "Nombre del planeta: {planet}\n",
    "Gravedad en {name}: {gravity*1000} ms/2\"\"\"\n",
    "# Plantilla\n",
    "plantilla = f\"\"\"{titulo.title()}\n",
    "{estructura} \\n\"\"\"\n",
    "print(plantilla)\n",
    "\n",
    "# Datos nuevos\n",
    "planeta = 'Marte '\n",
    "gravedad  = 0.00143\n",
    "nombre = 'Ganímedes'\n",
    "#Comprobar anterior plantilla\n",
    "print(plantilla)\n",
    "#Nueva Plantilla para .format\n",
    "nueva_plantilla=\"\"\"\n",
    "Datos de Gravedad sobre: {nombre}\n",
    "-------------------------------------------------------------------------------\n",
    "Nombre del planeta: {planeta}\n",
    "Gravedad en {nombre}: {gravedad} m/s2\n",
    "\"\"\"\n",
    "#format\n",
    "print(nueva_plantilla.format(nombre=nombre,planeta=planeta,gravedad=gravedad))\n",
    "#Configuracion para mostrar gravedad en m/s2\n",
    "print(nueva_plantilla.format(nombre=nombre,planeta=planeta,gravedad=gravedad*1000))"
   ]
  }
 ],
 "metadata": {
  "interpreter": {
   "hash": "7cc2f80e88967eb27f923e3bc96a07b6e52aa2a819bf8430ee7ee0fe71dbb06a"
  },
  "kernelspec": {
   "display_name": "Python 3.10.2 ('env': venv)",
   "language": "python",
   "name": "python3"
  },
  "language_info": {
   "codemirror_mode": {
    "name": "ipython",
    "version": 3
   },
   "file_extension": ".py",
   "mimetype": "text/x-python",
   "name": "python",
   "nbconvert_exporter": "python",
   "pygments_lexer": "ipython3",
   "version": "3.10.2"
  },
  "orig_nbformat": 4
 },
 "nbformat": 4,
 "nbformat_minor": 2
}
