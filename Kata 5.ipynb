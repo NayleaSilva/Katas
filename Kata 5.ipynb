{
 "cells": [
  {
   "cell_type": "markdown",
   "metadata": {},
   "source": [
    "# Problema 1"
   ]
  },
  {
   "cell_type": "code",
   "execution_count": 4,
   "metadata": {},
   "outputs": [
    {
     "name": "stdout",
     "output_type": "stream",
     "text": [
      "La distancia es de -390577533.93\n"
     ]
    }
   ],
   "source": [
    "#Datos\n",
    "primer_planeta=149597870\n",
    "segundo_planeta=778547200\n",
    "\n",
    "#Calculo\n",
    "distancia=primer_planeta-segundo_planeta\n",
    "distancia_millas=distancia*0.621\n",
    "\n",
    "#Resultado\n",
    "print(f\"La distancia es de {distancia_millas}\")\n"
   ]
  },
  {
   "cell_type": "markdown",
   "metadata": {},
   "source": [
    "# Problema 2"
   ]
  },
  {
   "cell_type": "code",
   "execution_count": 5,
   "metadata": {},
   "outputs": [
    {
     "name": "stdout",
     "output_type": "stream",
     "text": [
      "La distancia en kilometros es de: 243197856890\n",
      "La distancia en millas es de: 151025869128.69\n"
     ]
    }
   ],
   "source": [
    "#Solicitud de datos\n",
    "primer_planeta=input(\"Introduce la distancia del sol del primer planeta en km: \")\n",
    "segundo_planeta=input(\"Introduce la distancia del sol del segundo planeta en km: \")\n",
    "\n",
    "#Conversion de los valores en int\n",
    "primer_planeta=int(primer_planeta)\n",
    "segundo_planeta=int(segundo_planeta)\n",
    "\n",
    "#Calculo y resultado de distancia KM\n",
    "distancia=primer_planeta-segundo_planeta\n",
    "print(f\"La distancia en kilometros es de: {abs(distancia)}\")\n",
    "\n",
    "#Calculo y resultado de distancia MI\n",
    "distancia_millas=distancia*0.621\n",
    "print(f\"La distancia en millas es de: {abs(distancia_millas)}\")\n"
   ]
  },
  {
   "cell_type": "markdown",
   "metadata": {},
   "source": [
    "# Problema 3"
   ]
  }
 ],
 "metadata": {
  "interpreter": {
   "hash": "7cc2f80e88967eb27f923e3bc96a07b6e52aa2a819bf8430ee7ee0fe71dbb06a"
  },
  "kernelspec": {
   "display_name": "Python 3.10.2 ('env': venv)",
   "language": "python",
   "name": "python3"
  },
  "language_info": {
   "codemirror_mode": {
    "name": "ipython",
    "version": 3
   },
   "file_extension": ".py",
   "mimetype": "text/x-python",
   "name": "python",
   "nbconvert_exporter": "python",
   "pygments_lexer": "ipython3",
   "version": "3.10.2"
  },
  "orig_nbformat": 4
 },
 "nbformat": 4,
 "nbformat_minor": 2
}
